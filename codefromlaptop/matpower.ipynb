{
 "cells": [
  {
   "cell_type": "code",
   "execution_count": 1,
   "id": "4c208238",
   "metadata": {},
   "outputs": [
    {
     "name": "stdout",
     "output_type": "stream",
     "text": [
      "/Users/elizabethrogers/Desktop/powersystemspublichealth\n"
     ]
    }
   ],
   "source": [
    "%load_ext autoreload\n",
    "%autoreload 2\n",
    "%matplotlib inline\n",
    "%cd .."
   ]
  },
  {
   "cell_type": "code",
   "execution_count": 3,
   "id": "2cef0d60",
   "metadata": {},
   "outputs": [],
   "source": [
    "import numpy as np\n",
    "import pandas as pd\n",
    "import matplotlib.pyplot as plt\n",
    "import os\n"
   ]
  },
  {
   "cell_type": "markdown",
   "id": "d62bf842",
   "metadata": {},
   "source": [
    "Reformatting the linear regression coeffs to match with the format of a matpower cost function\n"
   ]
  },
  {
   "cell_type": "code",
   "execution_count": null,
   "id": "52e2ffc1",
   "metadata": {},
   "outputs": [],
   "source": [
    "# file containing emissions rates for each \n",
    "batch_file_creation_dir = 'BatchFileCreationCommands'\n",
    "code_from_laptop_dir = 'codefromlaptop'\n",
    "# emissions info for the RTS GMLC grid\n",
    "em_info = pd.read_csv(os.path.join(batch_file_creation_dir,\"RTS_generic.csv\"))\n",
    "\n",
    "linrg = pd.read_csv(os.path.join(code_from_laptop_dir,\"LinRegRTSGMLC1769SamplesSeed5.csv\"))"
   ]
  },
  {
   "cell_type": "code",
   "execution_count": 8,
   "id": "6e4f5d7d",
   "metadata": {},
   "outputs": [],
   "source": [
    "num_gen = 158"
   ]
  },
  {
   "cell_type": "code",
   "execution_count": 18,
   "id": "5b995d93",
   "metadata": {},
   "outputs": [],
   "source": [
    "w = np.zeros((4,num_gen))\n",
    "w[:] = [em_info['NOx Rate'].to_numpy(),em_info['SO2 Rate'].to_numpy(), em_info['PM25 Rate'].to_numpy(),em_info['VOC Rate'].to_numpy()]"
   ]
  },
  {
   "cell_type": "code",
   "execution_count": 20,
   "id": "1565dc22",
   "metadata": {},
   "outputs": [],
   "source": [
    "w.shape\n",
    "w_flat = w.flatten()"
   ]
  },
  {
   "cell_type": "code",
   "execution_count": 22,
   "id": "a2123aff",
   "metadata": {},
   "outputs": [],
   "source": [
    "\n",
    "# print(linrg[\"Low Estimate\"])\n",
    "low = linrg[\"Low Estimate\"]\n",
    "high = linrg[\"High Estimate\"]\n",
    "\n",
    "# print(\"low:\",low)\n",
    "# print(\"w flat\",w_flat)\n",
    "# print(low)\n",
    "# multiply by -1 since negative health benfits corresponds to the cost\n",
    "low = low*-1\n",
    "high = high*-1\n",
    "# print(low)\n",
    "\n",
    "combo_coeffs_low = np.array(np.multiply(w_flat,low))\n",
    "combo_coeffs_high = np.array(np.multiply(w_flat,high))\n",
    "\n",
    "# np.array([[1,2], [3, 4], [5, 6]]).flatten().reshape((3, 2))\n",
    "\n",
    "low_coeffs = combo_coeffs_low.reshape([4,num_gen])\n",
    "high_coeffs = combo_coeffs_high.reshape([4,num_gen])\n",
    "# print(\"combo low\",low_coeffs)\n",
    "\n",
    "low_coeffs = np.sum(low_coeffs, axis=0)  # Sum along rows (axis 0), keeping columns\n",
    "high_coeffs = np.sum(high_coeffs,axis=0)\n"
   ]
  },
  {
   "cell_type": "code",
   "execution_count": 24,
   "id": "c106fe84",
   "metadata": {},
   "outputs": [],
   "source": [
    "# save outputs!\n",
    "np.savetxt('RTSGMLCCostCoeffsLow', low_coeffs, delimiter=';')   # X is an array\n",
    "np.savetxt('RTSGMLCCostCoeffsHigh', high_coeffs, delimiter=';')   # X is an array"
   ]
  },
  {
   "cell_type": "code",
   "execution_count": null,
   "id": "a5a12460",
   "metadata": {},
   "outputs": [],
   "source": [
    "# THIS SECTION WAS USED FOR THE NEW ENGLAND GRID\n",
    "\n",
    "# emissions coeff w_flat stoes all the Nox emission rates, then the so2 emissions rates etc for each of the  generators\n",
    "# w = np.zeros((4,num_gen))\n",
    "\n",
    "\n",
    "# print(coeffs)\n",
    "# this step is useful for the NE grid when we had state and generator fuel type emissions rates\n",
    "# load in generator characteristics that are relevant to calculation\n",
    "# fuel_type = file['Fuel Type'].to_numpy()\n",
    "# state = file['stid'].to_numpy()\n",
    "\n",
    "# print(state[i])\n",
    "# for i in range(num_gen):\n",
    "#     # em = em_info.loc[em_info['State ID'] == state[i], ['Fuel Type','Emissions Type', 'Emissions Rate']]\n",
    "#     # em = em.loc[em['Fuel Type'] == fuel_type[i], ['Emissions Type', 'Emissions Rate']].to_numpy()\n",
    "\n",
    "#     # w[0,i] = em[0][1] / 2000\n",
    "#     # w[1,i] = em[1][1] / 2000\n",
    "#     # w[2,i] = em[2][1] / 2000 \n",
    "#     # w[3,i] = em[3][1] / 2000\n",
    "\n",
    "#     w[0,i] = em[0][1] / 2000\n",
    "#     w[1,i] = em[1][1] / 2000\n",
    "#     w[2,i] = em[2][1] / 2000 \n",
    "#     w[3,i] = em[3][1] / 2000\n",
    "\n",
    "\n",
    "#     # if (i ==10):\n",
    "#     #     print(\"em:\",em)\n",
    "#     #     print(\"c:\",w)\n",
    "#     # NO2.append(MW * em[0][1])\n",
    "#     # SO2.append(MW * em[1][1])\n",
    "#     # PM25.append(MW * em[2][1])\n",
    "#     # VOC.append(MW * em[3][1])\n",
    "\n",
    "\n",
    "\n",
    "# w_flat = np.array([dp.flatten() for dp in w])\n",
    "# w_flat = w.flatten()\n",
    "\n",
    "# print(w_flat.shape)\n",
    "# print(w_flat)\n",
    "# print(w_flat)\n",
    "# need to flatten / make sure flattening lines up\n",
    "\n",
    "# NO2.append(MW * em[0][1])\n",
    "# SO2.append(MW * em[1][1])\n",
    "# PM25.append(MW * em[2][1])\n",
    "# VOC.append(MW * em[3][1])\n"
   ]
  },
  {
   "cell_type": "code",
   "execution_count": 12,
   "id": "d7d03598",
   "metadata": {},
   "outputs": [],
   "source": [
    "# print(linrg[\"Low Estimate\"])\n",
    "low = linrg[\"Low Estimate\"]\n",
    "high = linrg[\"High Estimate\"]\n",
    "\n",
    "# print(\"low:\",low)\n",
    "# print(\"w flat\",w_flat)\n",
    "# print(low)\n",
    "low = low*-1\n",
    "high = high*-1\n",
    "# print(low)\n",
    "\n",
    "combo_coeffs_low = np.array(np.multiply(w_flat,low))\n",
    "combo_coeffs_high = np.array(np.multiply(w_flat,high))\n",
    "\n",
    "# np.array([[1,2], [3, 4], [5, 6]]).flatten().reshape((3, 2))\n",
    "\n",
    "low_coeffs = combo_coeffs_low.reshape([4,42])\n",
    "high_coeffs = combo_coeffs_high.reshape([4,42])\n",
    "# print(\"combo low\",low_coeffs)\n",
    "\n",
    "low_coeffs = np.sum(low_coeffs, axis=0)  # Sum along rows (axis 0), keeping columns\n",
    "high_coeffs = np.sum(high_coeffs,axis=0)\n"
   ]
  },
  {
   "cell_type": "code",
   "execution_count": null,
   "id": "d20d4877",
   "metadata": {},
   "outputs": [
    {
     "name": "stdout",
     "output_type": "stream",
     "text": [
      "[[3.03736165 2.11261302 3.32333584 1.25163501 2.32879029 1.81644582\n",
      "  1.78939371 2.05802668 2.04539709 3.41546967 1.34969249 2.40370715\n",
      "  1.46254572 2.06406595 2.41243266 1.9843664  2.79161761 2.65278498\n",
      "  2.00901327 1.67872713 2.56547398 1.63368433 1.93308885 3.20496772\n",
      "  1.53082282 2.90138276 1.65990666 1.19910667 2.0831329  1.57657511\n",
      "  3.21024747 1.19229469 2.03662896 2.46434625 1.05262988 1.91680949\n",
      "  2.29527979 1.67733749 2.22866954 1.90399928 1.89660225 2.04368613]]\n"
     ]
    }
   ],
   "source": [
    "# arr = np.random.rand(4, 42)\n",
    "# arr_sum = np.sum(arr, axis=0).reshape(1, 42)\n",
    "# print(arr_sum)  # Output: (1, 42)"
   ]
  },
  {
   "cell_type": "code",
   "execution_count": 14,
   "id": "e12c7e31",
   "metadata": {},
   "outputs": [],
   "source": [
    "# combo_coeffs_low.to_csv('CombinedCoefficientsLOW',sep=';', index=False)\n",
    "# combo_coeffs_high.to_csv('CombinedCoefficientsHIGH',sep=';', index=False)\n",
    "\n",
    "np.savetxt('CostCoeffsLow', low_coeffs, delimiter=';')   # X is an array\n",
    "np.savetxt('CostCoeffsHigh', high_coeffs, delimiter=';')   # X is an array\n"
   ]
  },
  {
   "cell_type": "code",
   "execution_count": null,
   "id": "c371863f",
   "metadata": {},
   "outputs": [
    {
     "name": "stdout",
     "output_type": "stream",
     "text": [
      "combo low 0     -0.020956\n",
      "1     -0.019935\n",
      "2      0.000008\n",
      "3     -0.000000\n",
      "4      0.000000\n",
      "         ...   \n",
      "163   -0.000002\n",
      "164    0.000000\n",
      "165   -0.000002\n",
      "166    0.000000\n",
      "167    0.000000\n",
      "Name: Low Estimate, Length: 168, dtype: float64\n"
     ]
    }
   ],
   "source": [
    "\n",
    "\n",
    "# array1 = np.array([1, 2, 3])\n",
    "# array2 = np.array([4, 5, 6])\n",
    "# result_array = np.multiply(array1, array2)\n",
    "# print(f\"Element-wise multiplication: {result_array}\")"
   ]
  },
  {
   "cell_type": "code",
   "execution_count": null,
   "id": "ebc1c358",
   "metadata": {},
   "outputs": [],
   "source": [
    "df = pd.DataFrame({'Low Coeffs': combo_coeffs_low, 'High Coeffs': combo_coeffs_high})\n",
    "\n",
    "df.to_csv('CombinedCoefficients', index=False)\n",
    "\n"
   ]
  },
  {
   "cell_type": "code",
   "execution_count": 81,
   "id": "29255315",
   "metadata": {},
   "outputs": [
    {
     "ename": "AttributeError",
     "evalue": "'numpy.ndarray' object has no attribute 'to_csv'",
     "output_type": "error",
     "traceback": [
      "\u001b[31m---------------------------------------------------------------------------\u001b[39m",
      "\u001b[31mAttributeError\u001b[39m                            Traceback (most recent call last)",
      "\u001b[36mCell\u001b[39m\u001b[36m \u001b[39m\u001b[32mIn[81]\u001b[39m\u001b[32m, line 1\u001b[39m\n\u001b[32m----> \u001b[39m\u001b[32m1\u001b[39m \u001b[43mlow_coeffs\u001b[49m\u001b[43m.\u001b[49m\u001b[43mto_csv\u001b[49m(\u001b[33m'\u001b[39m\u001b[33mCoefficientsLOW_convertedSet\u001b[39m\u001b[33m'\u001b[39m,index=\u001b[38;5;28;01mFalse\u001b[39;00m, sep=\u001b[33m'\u001b[39m\u001b[33m;\u001b[39m\u001b[33m'\u001b[39m)\n\u001b[32m      2\u001b[39m high_coeffs.to_csv(\u001b[33m'\u001b[39m\u001b[33mCoefficientsHIGH_convertedSet\u001b[39m\u001b[33m'\u001b[39m,index=\u001b[38;5;28;01mFalse\u001b[39;00m,sep=\u001b[33m'\u001b[39m\u001b[33m;\u001b[39m\u001b[33m'\u001b[39m)\n",
      "\u001b[31mAttributeError\u001b[39m: 'numpy.ndarray' object has no attribute 'to_csv'"
     ]
    }
   ],
   "source": [
    "low_coeffs.to_csv('CoefficientsLOW_convertedSet',index=False, sep=';')\n",
    "high_coeffs.to_csv('CoefficientsHIGH_convertedSet',index=False,sep=';')"
   ]
  },
  {
   "cell_type": "code",
   "execution_count": null,
   "id": "c84a4b25",
   "metadata": {},
   "outputs": [],
   "source": []
  }
 ],
 "metadata": {
  "kernelspec": {
   "display_name": "summer25",
   "language": "python",
   "name": "python3"
  },
  "language_info": {
   "codemirror_mode": {
    "name": "ipython",
    "version": 3
   },
   "file_extension": ".py",
   "mimetype": "text/x-python",
   "name": "python",
   "nbconvert_exporter": "python",
   "pygments_lexer": "ipython3",
   "version": "3.13.5"
  }
 },
 "nbformat": 4,
 "nbformat_minor": 5
}
